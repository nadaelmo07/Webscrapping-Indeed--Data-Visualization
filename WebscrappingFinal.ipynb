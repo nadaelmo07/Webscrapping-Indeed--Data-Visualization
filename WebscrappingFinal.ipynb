{
 "cells": [
  {
   "cell_type": "code",
   "execution_count": 1,
   "metadata": {
    "colab": {
     "base_uri": "https://localhost:8080/",
     "height": 119
    },
    "colab_type": "code",
    "id": "Cyjj3id9gOGS",
    "outputId": "f3c36bfd-d5be-447b-a8de-7efe7285f681"
   },
   "outputs": [
    {
     "name": "stderr",
     "output_type": "stream",
     "text": [
      "[nltk_data] Downloading package stopwords to /Users/NADA/nltk_data...\n",
      "[nltk_data]   Package stopwords is already up-to-date!\n",
      "[nltk_data] Downloading package punkt to /Users/NADA/nltk_data...\n",
      "[nltk_data]   Package punkt is already up-to-date!\n",
      "[nltk_data] Downloading package wordnet to /Users/NADA/nltk_data...\n",
      "[nltk_data]   Package wordnet is already up-to-date!\n"
     ]
    }
   ],
   "source": [
    "import numpy as np\n",
    "import pandas as pd\n",
    "import matplotlib.pyplot as plt\n",
    "import urllib\n",
    "from bs4 import BeautifulSoup\n",
    "import datetime\n",
    "import ast\n",
    "import csv\n",
    "from IPython.display import HTML\n",
    "from urllib.parse import urljoin\n",
    "import requests\n",
    "import time\n",
    "%matplotlib inline\n",
    "\n",
    "\n",
    "import nltk\n",
    "nltk.download('stopwords')\n",
    "nltk.download('punkt')\n",
    "nltk.download('wordnet')\n",
    "from nltk.corpus import stopwords\n",
    "from nltk.tokenize import word_tokenize\n",
    "from nltk.stem.porter import PorterStemmer\n",
    "import string\n",
    "import html\n",
    "import seaborn as sns "
   ]
  },
  {
   "cell_type": "markdown",
   "metadata": {
    "colab_type": "text",
    "id": "O2irAZ1Wmvcm"
   },
   "source": [
    "# Goal of Notebook:  \n",
    "- Web scrap Indeed and Workopolis for 4 different job titles (data+scientist', 'business+analyst', 'business+intelligence+analyst','financial+analyst') and study trends in order to determine the most desirable skills. \n",
    "- Use the popular skills to help redesign MIE 1624"
   ]
  },
  {
   "cell_type": "markdown",
   "metadata": {
    "colab_type": "text",
    "id": "zmHB_d4Z3djD"
   },
   "source": [
    "# Indeed\n"
   ]
  },
  {
   "cell_type": "code",
   "execution_count": 2,
   "metadata": {
    "colab": {},
    "colab_type": "code",
    "id": "ikmE_60Ob16R"
   },
   "outputs": [],
   "source": [
    "#job_title = []\n",
    "#company = []\n",
    "#location = []\n",
    "#salary = []\n",
    "#link = []\n",
    "#summaries = []\n",
    "#city = []\n",
    "#cities = ['Los+Angeles','Toronto','New+York','Chicago', 'San+Francisco', 'Austin', 'Seattle', 'Philadelphia', 'Dallas', 'Pittsburgh', 'Calgary', 'Montreal', 'Houston', 'Miami']\n",
    "#job_ = ['data+scientist', 'business+analyst', 'business+intelligence+analyst','financial+analyst']\n",
    "#pages = list(range(0,300,10))\n",
    "#for c in cities:\n",
    "    #for j in job_: \n",
    "        #for page in pages:\n",
    "            #result = requests.get(\"https://www.indeed.com/jobs?q={}&l={}&start={}\".format(j,c, page)).text\n",
    "            \n",
    "            #ensuring at least 1 second between page grabs                    \n",
    "            #time.sleep(1)\n",
    "            \n",
    "            #soup = BeautifulSoup(result, 'lxml') # CONVERT INTO STRUCTURED HTML. allows us to search the html file\n",
    "            #divs = soup.find_all(name='div', attrs={'class':'row'})\n",
    "            \n",
    "            ## if results does not exist\n",
    "            #if(len(divs) == 0):\n",
    "                #break\n",
    "\n",
    "            ## for job title and job link    \n",
    "            #for div in divs: \n",
    "                #try:\n",
    "                    #for a in div.findAll('a', attrs={\"data-tn-element\":\"jobTitle\"}):\n",
    "                        #job_title.append(a[\"title\"]) # job title\n",
    "                        #link.append('https://www.indeed.com'+a[\"href\"])\n",
    "                        #city.append(c) #city\n",
    "                #except:\n",
    "                    #job_title.append('None')\n",
    "                    #link.append(\"None\")\n",
    "            \n",
    "                    \n",
    "                ## for company name\n",
    "    \n",
    "                #try:\n",
    "                    #for a in div.find_all(name=\"span\", attrs={\"class\":\"company\"}):\n",
    "                        #company.append(a.text.strip())\n",
    "        \n",
    "                #except:\n",
    "                    #try:\n",
    "                        #for b in div.find_all(name=\"a\", attrs={\"class\":\"turnstileLink\"}):\n",
    "                            #company.append(b.text.strip())\n",
    "                    #except:\n",
    "                        #company.append('None')\n",
    "    \n",
    "    \n",
    "               ##for location\n",
    "       \n",
    "                #try:\n",
    "                    #div1 = div.find('div', attrs={'class':'sjcl'})\n",
    "                    #div2 = div1.find('div', attrs={'class': 'location'})\n",
    "                    #location.append(div2.text.strip())\n",
    "                #except:\n",
    "                    #try:\n",
    "                         #div3= div1.find('span', attrs={'class':'location'})\n",
    "                         #location.append(div3.text.strip())\n",
    "                    #except:\n",
    "                         #location.append('None')\n",
    "\n",
    "                ## for salary\n",
    "    \n",
    "                #try:\n",
    "                    #div_two = div.find(name='span', attrs={'class':'salaryText'})\n",
    "                    #salary.append(div_two.text.strip())\n",
    "                #except:\n",
    "                    #salary.append('None')"
   ]
  },
  {
   "cell_type": "code",
   "execution_count": 3,
   "metadata": {
    "colab": {
     "base_uri": "https://localhost:8080/",
     "height": 272
    },
    "colab_type": "code",
    "id": "-w2DmorecbrQ",
    "outputId": "1125fbd5-d138-4112-c354-90908fc10fbb"
   },
   "outputs": [],
   "source": [
    "#table = dict()\n",
    "#table['city'] = city\n",
    "#table['job'] = job_title\n",
    "#table['company' ] = company\n",
    "#table['location'] = location\n",
    "#table['salary'] = salary\n",
    "#table['link'] = link\n",
    "\n",
    "#Indeed_Results1 = pd.DataFrame.from_dict(table)\n",
    "#Indeed_Results1.head()"
   ]
  },
  {
   "cell_type": "code",
   "execution_count": 4,
   "metadata": {
    "colab": {
     "base_uri": "https://localhost:8080/",
     "height": 34
    },
    "colab_type": "code",
    "id": "rqvpUkk_dXOg",
    "outputId": "f7623524-9f6c-48ec-9b77-d0ca47bbc4b2"
   },
   "outputs": [],
   "source": [
    "#Indeed_Results1.shape"
   ]
  },
  {
   "cell_type": "code",
   "execution_count": 5,
   "metadata": {
    "colab": {},
    "colab_type": "code",
    "id": "OJCu4muixFp0"
   },
   "outputs": [],
   "source": [
    "#Indeed_Results1.to_csv(\"Indeed_Result.csv\")"
   ]
  },
  {
   "cell_type": "code",
   "execution_count": 6,
   "metadata": {
    "colab": {
     "base_uri": "https://localhost:8080/",
     "height": 272
    },
    "colab_type": "code",
    "id": "L0ZY4gOy7y2p",
    "outputId": "fa6521a4-bff7-4db0-cb2f-5edd9474a248"
   },
   "outputs": [],
   "source": [
    "#Indeed_Results = pd.read_csv(\"Indeed_Result.csv\")\n",
    "#Indeed_Results= Indeed_Results.iloc[:,1:]\n",
    "#Indeed_Results.head()"
   ]
  },
  {
   "cell_type": "code",
   "execution_count": 7,
   "metadata": {
    "colab": {},
    "colab_type": "code",
    "id": "WJ63wgwWug9i"
   },
   "outputs": [],
   "source": [
    "#full_summary = []\n",
    "#for i in range(Indeed_Results.shape[0]):\n",
    "    #page = requests.get(Indeed_Results['link'].values[i])\n",
    "    #soup = BeautifulSoup(page.text, \"lxml\")\n",
    "    #try:\n",
    "        #text = soup.find(\"div\", {'class' : 'jobsearch-jobDescriptionText'}).text.strip().lower()\n",
    "        #full_summary.append(text)\n",
    "    #except:\n",
    "        #try:\n",
    "            #text = soup.find(\"div\", {'class' : 'jobsearch-JobComponent-description'}).text.strip().lower()\n",
    "            #full_summary.append(text)\n",
    "        #except:\n",
    "            #full_summary.append('None')"
   ]
  },
  {
   "cell_type": "code",
   "execution_count": 8,
   "metadata": {
    "colab": {},
    "colab_type": "code",
    "id": "dWpVGn9qr6xJ"
   },
   "outputs": [],
   "source": [
    "#save file\n",
    "#with open(\"summaryFinalF.txt\", \"w\") as file_output:\n",
    "  #file_output.write(str(full_summary))\n",
    "\n",
    "#read file\n",
    "#with open(\"summaryFinalF.txt\", \"r\") as file:\n",
    "    #full_summary = eval(file.readline())"
   ]
  },
  {
   "cell_type": "code",
   "execution_count": 9,
   "metadata": {
    "colab": {},
    "colab_type": "code",
    "id": "jplvvsgVI5YX"
   },
   "outputs": [],
   "source": [
    "#from google.colab import files\n",
    "#files.download('summaryFinal.txt') "
   ]
  },
  {
   "cell_type": "markdown",
   "metadata": {
    "colab_type": "text",
    "id": "hHO43gMFA-DS"
   },
   "source": [
    "# Clean the summaries of each job posting"
   ]
  },
  {
   "cell_type": "code",
   "execution_count": 10,
   "metadata": {
    "colab": {},
    "colab_type": "code",
    "id": "K42JJJokiS8i"
   },
   "outputs": [],
   "source": [
    "#clean_summary =[]\n",
    "#for i in range(len(full_summary)):\n",
    "  #text = full_summary[i].lower()\n",
    "  #tw = str(text).replace('-','').replace('!','').replace('-','').replace('.','').replace(\"'\",'')\n",
    "  #tw = tw.replace('(','').replace(')','')\n",
    "  #tw = tw.replace('/','').replace('\\,', '')\n",
    "  #tw = tw.replace('/<[^>]+>/', '')\n",
    "  #tw = tw.replace('https:', '')\n",
    "  #tw = tw.replace('https?://[A-Za-z0-9./]+', '')\n",
    "\n",
    "  #clean_summary.append(tw)    "
   ]
  },
  {
   "cell_type": "code",
   "execution_count": 11,
   "metadata": {
    "colab": {},
    "colab_type": "code",
    "id": "CnJpJJsbl4Sr"
   },
   "outputs": [],
   "source": [
    "#clean_summary\n",
    "def summary_nlp(summary):\n",
    "        \n",
    "    ##start by tokenize the  summary (separate it the text into words, or n-grams) with nltk\n",
    "    word_tokens = word_tokenize(summary) \n",
    "    \n",
    "    ##remove punctuation signs from tokens\n",
    "    table = str.maketrans('', '', string.punctuation)\n",
    "    word_tokens = [word.translate(table) for word in word_tokens]\n",
    "    \n",
    "    ##remove non-alphabetic characters\n",
    "    word_tokens = [word for word in word_tokens if word.isalpha()]\n",
    "    \n",
    "    ##remove stopwords\n",
    "    stop_words = set(stopwords.words('english')) #import a predefined set of stopwords from the nltk package\n",
    "    word_tokens = [word for word in word_tokens if not word in stop_words]\n",
    "    \n",
    "    clean_summaries = [] #create empty list to store the final tokens after text processing\n",
    "    for w in word_tokens:\n",
    "        clean_summaries.append(w)\n",
    "\n",
    "    #join the tokens of the clean summary back into a string with spaces in between\n",
    "    clean_summary_str = ' '.join(clean_summaries)\n",
    "    \n",
    "    #return the clean summary string\n",
    "    return clean_summary_str"
   ]
  },
  {
   "cell_type": "code",
   "execution_count": 12,
   "metadata": {
    "colab": {},
    "colab_type": "code",
    "id": "PMDelC1WrOHR"
   },
   "outputs": [],
   "source": [
    "#Final_summary= [] #final clean phase of the summary\n",
    "#for i in range (len(clean_summary)):\n",
    "  #Final_summary.append(summary_nlp(clean_summary[i]))"
   ]
  },
  {
   "cell_type": "code",
   "execution_count": 13,
   "metadata": {
    "colab": {},
    "colab_type": "code",
    "id": "fMh7orYOuPWS"
   },
   "outputs": [],
   "source": [
    "#Indeed_Results['Cleaned_summary'] = np.array(Final_summary)"
   ]
  },
  {
   "cell_type": "code",
   "execution_count": 14,
   "metadata": {
    "colab": {
     "base_uri": "https://localhost:8080/",
     "height": 374
    },
    "colab_type": "code",
    "id": "kw1ufbNdDoj9",
    "outputId": "3ac7a61f-8142-45b8-d50b-5b5216abe502"
   },
   "outputs": [],
   "source": [
    "#Indeed_Results.head()"
   ]
  },
  {
   "cell_type": "markdown",
   "metadata": {
    "colab_type": "text",
    "id": "JiqyH6d7BBXm"
   },
   "source": [
    "# Look for Common Skills"
   ]
  },
  {
   "cell_type": "code",
   "execution_count": 15,
   "metadata": {
    "colab": {
     "base_uri": "https://localhost:8080/",
     "height": 272
    },
    "colab_type": "code",
    "id": "f_y0_N2-r-R1",
    "outputId": "51a2da62-cb1d-410f-8f74-655d8fe1a69f"
   },
   "outputs": [],
   "source": [
    "#looking at common words in order to determine the most common skills\n",
    "import itertools\n",
    "import collections\n",
    "\n",
    "#tokenize = [sentence.split() for sentence in Final_summary] # split all sentences into individual words\n",
    "\n",
    "##flatten the tokenize list in one list \n",
    "#flat = list(itertools.chain(*tokenize))\n",
    "\n",
    "#counts_words = collections.Counter(flat)\n",
    "#counts_words.most_common(15)"
   ]
  },
  {
   "cell_type": "code",
   "execution_count": 16,
   "metadata": {
    "colab": {},
    "colab_type": "code",
    "id": "R1iehy4GtHzb"
   },
   "outputs": [],
   "source": [
    "# most common technical skills\n",
    "skills = ['python', 'sql', 'excel', 'java', 'c', 'c+', 'c++', 'r', 'tableau', 'spark', 'hadoop', 'm', 'azure', 'tensorflow', 'acumen'\n",
    "          'design', 'sap', 'd3','cloud', 'project management', 'audit', 'data mining', 'creating algorithms','computer skills', 'data manipulation', 'data wrangling', \n",
    "          'big data','api', 'apiengine', 'aws', 'dplyr', 'information retrieval', 'interpreting data', 'keras', 'mathematics', 'statistics', 'matlab',\n",
    "          'microsoft excel', 'powerpoint', 'predictive models', 'machine learning', 'recommendation engines', 'reinforcement learning', 'risk modeling',\n",
    "          'scripting languages', 'speech recognition', 'statistical learning models', 'statistical modeling', 'supervised', 'unsupervised', \n",
    "          'simulation', 'tensorflow', 'time series', 'verbal', 'bachelor', 'masters','phd', \n",
    "          'assertiveness', 'communication', 'collaboration', 'leadership', 'innovative', 'interpersonal', 'consulting', 'creativity', 'critical thinking',\n",
    "          'customer service', 'decision making', 'documenting', 'facilitating meetings', 'guidance', 'logical thinking','mentoring', 'presentation', 'problem saving',\n",
    "          'project timelines', 'report', 'research', 'writing', 'working independently', 'supervisory','nlp', 'logistic', 'linear', 'optimization', \n",
    "          'mathematical modelling', 'matplotlib', 'neural networks', 'nltk', 'numpy', 'pandas', 'random forests',\n",
    "          'deep learning', 'seaborn', 'sklearn', 'ensemble methods', 'knn', 'naives bayes', 'svm',\n",
    "          'hypothesis testing', 'decision trees', 'web scraping', 'chatbots',\n",
    "          'network analysis', 'bokeh', 'cluster analysis', 'gradient boosting', 'principle component analysis', 'build pipeline',\n",
    "          'feature engineering', 'simulation', 'monte carlo', 'hyperparameter tuning', 'model validation', 'ggplot', 'plotly',\n",
    "          'geoplotlib', 'tableau', 'model training', 'model testing', 'relational Database', 'pyspark', 'query tuning', 'error handling',\n",
    "          'recursive queries', 'postgresql', 'triggers', 'neural nets', 'tensors', 'kafka', 'pivot tables', 'conditional formating', 'multivariable calculus', \n",
    "          'nosql', 'scikit', 'scipy', 'xgboost', 'validating analytics']\n",
    "\n",
    "## append empty zero columns for hard type skills\n",
    "#for sk in skills:\n",
    "  #Indeed_Results[sk] = np.zeros(len(Indeed_Results))\n"
   ]
  },
  {
   "cell_type": "code",
   "execution_count": 17,
   "metadata": {
    "colab": {
     "base_uri": "https://localhost:8080/",
     "height": 102
    },
    "colab_type": "code",
    "id": "Uhv4ZJt92cba",
    "outputId": "75b1c08e-e8ad-4db6-8889-45e2a226440a"
   },
   "outputs": [],
   "source": [
    "# search for a skill, if it is present in job summary then place 1. \n",
    "import re\n",
    "#for i in range (len(Final_summary)):\n",
    "  #text = Final_summary[i]\n",
    "  #for sk in skills :\n",
    "    #if any(x in sk for x in ['+']):\n",
    "      #skk = re.escape(sk)\n",
    "    #else:\n",
    "      #skk = sk\n",
    "    #result = re.search(r'(?:^|(?<=\\s))' + skk + r'(?=\\s|$)',text)\n",
    "    #if result:\n",
    "      #Indeed_Results[sk][i] = 1"
   ]
  },
  {
   "cell_type": "markdown",
   "metadata": {
    "colab_type": "text",
    "id": "_gIUg43knypY"
   },
   "source": [
    "# Job Count in each city based on indeed"
   ]
  },
  {
   "cell_type": "code",
   "execution_count": 18,
   "metadata": {},
   "outputs": [
    {
     "data": {
      "text/html": [
       "<div>\n",
       "<style scoped>\n",
       "    .dataframe tbody tr th:only-of-type {\n",
       "        vertical-align: middle;\n",
       "    }\n",
       "\n",
       "    .dataframe tbody tr th {\n",
       "        vertical-align: top;\n",
       "    }\n",
       "\n",
       "    .dataframe thead th {\n",
       "        text-align: right;\n",
       "    }\n",
       "</style>\n",
       "<table border=\"1\" class=\"dataframe\">\n",
       "  <thead>\n",
       "    <tr style=\"text-align: right;\">\n",
       "      <th></th>\n",
       "      <th>city</th>\n",
       "      <th>job</th>\n",
       "      <th>company</th>\n",
       "      <th>location</th>\n",
       "      <th>salary</th>\n",
       "      <th>link</th>\n",
       "    </tr>\n",
       "  </thead>\n",
       "  <tbody>\n",
       "    <tr>\n",
       "      <td>0</td>\n",
       "      <td>Los+Angeles</td>\n",
       "      <td>Machine Learning Engineer</td>\n",
       "      <td>Triplebyte</td>\n",
       "      <td>Los Angeles, CA</td>\n",
       "      <td>$150,000 - $250,000 a year</td>\n",
       "      <td>https://www.indeed.com/pagead/clk?mo=r&amp;ad=-6NY...</td>\n",
       "    </tr>\n",
       "    <tr>\n",
       "      <td>1</td>\n",
       "      <td>Los+Angeles</td>\n",
       "      <td>Senior Data Scientist - Advanced Analytics (76...</td>\n",
       "      <td>Fortune 500 client of Nabler</td>\n",
       "      <td>Burbank, CA</td>\n",
       "      <td>$100,000 - $160,000 a year</td>\n",
       "      <td>https://www.indeed.com/pagead/clk?mo=r&amp;ad=-6NY...</td>\n",
       "    </tr>\n",
       "    <tr>\n",
       "      <td>2</td>\n",
       "      <td>Los+Angeles</td>\n",
       "      <td>Staff Data Scientist - Engineering</td>\n",
       "      <td>Lifesprk</td>\n",
       "      <td>United States</td>\n",
       "      <td>$120,000 - $170,000 a year</td>\n",
       "      <td>https://www.indeed.com/pagead/clk?mo=r&amp;ad=-6NY...</td>\n",
       "    </tr>\n",
       "    <tr>\n",
       "      <td>3</td>\n",
       "      <td>Los+Angeles</td>\n",
       "      <td>Data Scientist - HBO Max</td>\n",
       "      <td>HBO Max</td>\n",
       "      <td>Burbank, CA</td>\n",
       "      <td>None</td>\n",
       "      <td>https://www.indeed.com/rc/clk?jk=c7ae5671ad43c...</td>\n",
       "    </tr>\n",
       "    <tr>\n",
       "      <td>4</td>\n",
       "      <td>Los+Angeles</td>\n",
       "      <td>Data Science Intern</td>\n",
       "      <td>Dolphin</td>\n",
       "      <td>Los Angeles, CA 90013</td>\n",
       "      <td>$25 an hour</td>\n",
       "      <td>https://www.indeed.com/company/Dolphin/jobs/Da...</td>\n",
       "    </tr>\n",
       "  </tbody>\n",
       "</table>\n",
       "</div>"
      ],
      "text/plain": [
       "          city                                                job  \\\n",
       "0  Los+Angeles                          Machine Learning Engineer   \n",
       "1  Los+Angeles  Senior Data Scientist - Advanced Analytics (76...   \n",
       "2  Los+Angeles                 Staff Data Scientist - Engineering   \n",
       "3  Los+Angeles                           Data Scientist - HBO Max   \n",
       "4  Los+Angeles                                Data Science Intern   \n",
       "\n",
       "                        company               location  \\\n",
       "0                    Triplebyte        Los Angeles, CA   \n",
       "1  Fortune 500 client of Nabler            Burbank, CA   \n",
       "2                      Lifesprk          United States   \n",
       "3                       HBO Max            Burbank, CA   \n",
       "4                       Dolphin  Los Angeles, CA 90013   \n",
       "\n",
       "                       salary  \\\n",
       "0  $150,000 - $250,000 a year   \n",
       "1  $100,000 - $160,000 a year   \n",
       "2  $120,000 - $170,000 a year   \n",
       "3                        None   \n",
       "4                 $25 an hour   \n",
       "\n",
       "                                                link  \n",
       "0  https://www.indeed.com/pagead/clk?mo=r&ad=-6NY...  \n",
       "1  https://www.indeed.com/pagead/clk?mo=r&ad=-6NY...  \n",
       "2  https://www.indeed.com/pagead/clk?mo=r&ad=-6NY...  \n",
       "3  https://www.indeed.com/rc/clk?jk=c7ae5671ad43c...  \n",
       "4  https://www.indeed.com/company/Dolphin/jobs/Da...  "
      ]
     },
     "execution_count": 18,
     "metadata": {},
     "output_type": "execute_result"
    }
   ],
   "source": [
    "# Read in indeed data only \n",
    "Indeed_Results = pd.read_csv('Indeed_Result.csv')\n",
    "Indeed_Results = Indeed_Results.iloc[:,1:]\n",
    "Indeed_Results.head()"
   ]
  },
  {
   "cell_type": "code",
   "execution_count": 19,
   "metadata": {
    "colab": {
     "base_uri": "https://localhost:8080/",
     "height": 537
    },
    "colab_type": "code",
    "id": "uMwiWTXfnGP9",
    "outputId": "3a683401-c3ed-40a8-e538-840aafef4788"
   },
   "outputs": [
    {
     "data": {
      "image/png": "[encoded data removed]",
      "text/plain": [
       "<Figure size 1440x504 with 1 Axes>"
      ]
     },
     "metadata": {
      "needs_background": "light"
     },
     "output_type": "display_data"
    }
   ],
   "source": [
    "location = Indeed_Results['city'].value_counts() # count the number of jobs in each location\n",
    "plt.figure(figsize=(20,7))\n",
    "\n",
    "sns.barplot(location.index, location.values, alpha=0.8)\n",
    "plt.title('Indeed: Job Count in Each City',fontsize=18)\n",
    "plt.ylabel('Count', fontsize=16)\n",
    "plt.xlabel('location', fontsize=16)\n",
    "plt.xticks(rotation=45, ha='right')\n",
    "plt.show()"
   ]
  },
  {
   "cell_type": "markdown",
   "metadata": {
    "colab_type": "text",
    "id": "htZBzU3q3TD2"
   },
   "source": [
    "# Workopolis\n",
    "\n",
    "Workopolis is a canadian website that extracts information from all cities in canada that are relevant to the search. We won't specify the city names because job positings are limited on this site. We used this site to get a deeper look on the data science field in canada. "
   ]
  },
  {
   "cell_type": "code",
   "execution_count": 20,
   "metadata": {
    "colab": {},
    "colab_type": "code",
    "id": "mFVLFeUV6vr0"
   },
   "outputs": [],
   "source": [
    "#job_title = []\n",
    "#company = []\n",
    "#location = []\n",
    "#salary = []\n",
    "#link = []\n",
    "#summaries = []\n",
    "#pages = list(range(0,20,1))\n",
    "#for page in pages:\n",
    "  \n",
    "  #result = requests.get(\"https://www.workopolis.com/jobsearch/find-jobs?ak=data+scientist&lg=en&pn={}\".format(page)).text\n",
    "  #soup = BeautifulSoup(result, 'lxml')\n",
    "\n",
    "  #for article in soup.find_all(name='article', attrs={'class':'JobCard'}): \n",
    "\n",
    "    # for job title\n",
    "    #try:\n",
    "      #for a in article.findAll('h2'):\n",
    "        #job_title.append(a['title'])\n",
    "    \n",
    "    #except:\n",
    "      #job_title.append('None')\n",
    "\n",
    "\n",
    "    #for company name\n",
    "    \n",
    "    #try:\n",
    "      #for a in article.find_all('div', attrs={\"class\":\"JobCard-company\"}):\n",
    "          #company.append(a.text.strip())\n",
    "    #except:\n",
    "      #company.append('None')\n",
    "    \n",
    "    \n",
    "    # for location\n",
    "       \n",
    "    #try:\n",
    "      #div1 = article.find('span', attrs={'class':'JobCard-location'})\n",
    "      #location.append(div1.text.strip())\n",
    "    #except:\n",
    "      #location.append('None')\n",
    "\n",
    "    ## for salary\n",
    "    \n",
    "    #try:\n",
    "      #div_two = article.find(name='span', attrs={'class':'Salary'})\n",
    "      #salary.append(div_two.text.strip())\n",
    "    #except:\n",
    "      #salary.append('None')\n",
    "\n",
    "\n",
    "    ##for link\n",
    "    #try:\n",
    "      #for a in article.findAll('a'):\n",
    "        #link.append('https://www.workopolis.com' + a['href'])\n",
    "\n",
    "    #except:\n",
    "      #link.append('None')"
   ]
  },
  {
   "cell_type": "code",
   "execution_count": 21,
   "metadata": {
    "colab": {
     "base_uri": "https://localhost:8080/",
     "height": 289
    },
    "colab_type": "code",
    "id": "0OZRVM5R2t6h",
    "outputId": "af32495a-4407-4f37-b061-fdc4a344a112"
   },
   "outputs": [],
   "source": [
    "#table = dict()\n",
    "#table['city'] = location\n",
    "#table['job'] = job_title\n",
    "#table['company' ] = company\n",
    "#table['location'] = location\n",
    "#table['salary'] = salary\n",
    "#table['link'] = link\n",
    "\n",
    "#Workopolis_Results = pd.DataFrame.from_dict(table)\n",
    "#Workopolis_Results.head()"
   ]
  },
  {
   "cell_type": "markdown",
   "metadata": {
    "colab_type": "text",
    "id": "KaS-jwic_wvG"
   },
   "source": [
    "## Clean Summary "
   ]
  },
  {
   "cell_type": "code",
   "execution_count": 22,
   "metadata": {
    "colab": {},
    "colab_type": "code",
    "id": "EF_y15p49Uxe"
   },
   "outputs": [],
   "source": [
    "#clean_summary_work =[]\n",
    "#for i in range(Workopolis_Results.shape[0]):\n",
    "  #post = requests.get(Workopolis_Results['link'].values[i])\n",
    "  #soup = BeautifulSoup(post.text, \"lxml\")\n",
    "  #text = soup.find(\"div\", {'class' : 'viewjob-description'}).text.strip().lower()\n",
    "\n",
    "  #tw = str(text).replace('-','').replace('!','').replace('-','').replace('.','').replace(\"'\",'')\n",
    "  #tw = tw.replace('(','').replace(')','')\n",
    "  #tw = tw.replace('/','').replace('\\,', '')\n",
    "  #tw = tw.replace('/<[^>]+>/', '')\n",
    "  #tw = tw.replace('https:', '')\n",
    "  #tw = tw.replace('https?://[A-Za-z0-9./]+', '')\n",
    "  #tw = tw.replace (u'\\xa0', u'')\n",
    "\n",
    "  #clean_summary_work.append(tw)   "
   ]
  },
  {
   "cell_type": "code",
   "execution_count": 23,
   "metadata": {
    "colab": {},
    "colab_type": "code",
    "id": "mx-oDimc-51_"
   },
   "outputs": [],
   "source": [
    "#Final_summary_work= [] #final clean phase of the summary for workopolis\n",
    "#for i in range (len(clean_summary_work)):\n",
    "  #Final_summary_work.append(summary_nlp(clean_summary_work[i]))"
   ]
  },
  {
   "cell_type": "code",
   "execution_count": 24,
   "metadata": {
    "colab": {},
    "colab_type": "code",
    "id": "ODNMY1m20K2W"
   },
   "outputs": [],
   "source": [
    "#Workopolis_Results['Cleaned_summary'] = np.array(Final_summary_work)"
   ]
  },
  {
   "cell_type": "code",
   "execution_count": 25,
   "metadata": {
    "colab": {},
    "colab_type": "code",
    "id": "ea1uYr7nwKnn"
   },
   "outputs": [],
   "source": [
    "# remove \\xa0 character from location\n",
    "#from unicodedata import normalize\n",
    "#city_name = []\n",
    "#for i in range (Workopolis_Results.shape[0]):\n",
    "  #city_ = Workopolis_Results['city'].values[i]\n",
    "  #city_ = normalize('NFKD', city_)\n",
    "  #city_ = city_.replace('— ', '')\n",
    "  #city_name.append(city_)"
   ]
  },
  {
   "cell_type": "code",
   "execution_count": 26,
   "metadata": {
    "colab": {},
    "colab_type": "code",
    "id": "cQvUD8HHysQ_"
   },
   "outputs": [],
   "source": [
    "#Workopolis_Results['city'] = np.array(city_name)"
   ]
  },
  {
   "cell_type": "markdown",
   "metadata": {
    "colab_type": "text",
    "id": "tfRtX1y9_zci"
   },
   "source": [
    "## Check for skills"
   ]
  },
  {
   "cell_type": "code",
   "execution_count": 27,
   "metadata": {
    "colab": {},
    "colab_type": "code",
    "id": "qrug52zh_YjY"
   },
   "outputs": [],
   "source": [
    "## append empty zero columns for each skill\n",
    "#for sk in skills:\n",
    "    #Workopolis_Results[sk] = np.zeros(len(Workopolis_Results))"
   ]
  },
  {
   "cell_type": "code",
   "execution_count": 28,
   "metadata": {
    "colab": {
     "base_uri": "https://localhost:8080/",
     "height": 102
    },
    "colab_type": "code",
    "id": "6pQIcHBm_LNv",
    "outputId": "bb8d3cba-a42d-4752-9207-48ced6d5acaf"
   },
   "outputs": [],
   "source": [
    "# find the skills in the workopolis summaries\n",
    "#for i in range (len(Final_summary_work)):\n",
    "  #text = Final_summary_work[i]\n",
    "  #for sk in skills :\n",
    "    #if any(x in sk for x in ['+']):\n",
    "      #skk = re.escape(sk)\n",
    "    #else:\n",
    "      #skk = sk\n",
    "    #result = re.search(r'(?:^|(?<=\\s))' + skk + r'(?=\\s|$)',text)\n",
    "    #if result:\n",
    "      #Workopolis_Results[sk][i] = 1"
   ]
  },
  {
   "cell_type": "code",
   "execution_count": 29,
   "metadata": {},
   "outputs": [],
   "source": [
    "#Workopolis_Results.to_csv(r'Workopolis_Results.csv')"
   ]
  },
  {
   "cell_type": "markdown",
   "metadata": {
    "colab_type": "text",
    "id": "3oDnRm23yhL-"
   },
   "source": [
    "# Job count in each Canadian City based on Workopolis"
   ]
  },
  {
   "cell_type": "code",
   "execution_count": 30,
   "metadata": {},
   "outputs": [
    {
     "data": {
      "text/html": [
       "<div>\n",
       "<style scoped>\n",
       "    .dataframe tbody tr th:only-of-type {\n",
       "        vertical-align: middle;\n",
       "    }\n",
       "\n",
       "    .dataframe tbody tr th {\n",
       "        vertical-align: top;\n",
       "    }\n",
       "\n",
       "    .dataframe thead th {\n",
       "        text-align: right;\n",
       "    }\n",
       "</style>\n",
       "<table border=\"1\" class=\"dataframe\">\n",
       "  <thead>\n",
       "    <tr style=\"text-align: right;\">\n",
       "      <th></th>\n",
       "      <th>city</th>\n",
       "      <th>job</th>\n",
       "      <th>company</th>\n",
       "      <th>location</th>\n",
       "      <th>salary</th>\n",
       "      <th>link</th>\n",
       "      <th>Cleaned_summary</th>\n",
       "      <th>python</th>\n",
       "      <th>sql</th>\n",
       "      <th>excel</th>\n",
       "      <th>...</th>\n",
       "      <th>tensors</th>\n",
       "      <th>kafka</th>\n",
       "      <th>pivot tables</th>\n",
       "      <th>conditional formating</th>\n",
       "      <th>multivariable calculus</th>\n",
       "      <th>nosql</th>\n",
       "      <th>scikit</th>\n",
       "      <th>scipy</th>\n",
       "      <th>xgboost</th>\n",
       "      <th>validating analytics</th>\n",
       "    </tr>\n",
       "  </thead>\n",
       "  <tbody>\n",
       "    <tr>\n",
       "      <td>0</td>\n",
       "      <td>Toronto, ON</td>\n",
       "      <td>Sr. Full Stack Engineer</td>\n",
       "      <td>TD Bank</td>\n",
       "      <td>— Toronto, ON</td>\n",
       "      <td>Estimated: $84,000 - $120,000 a year</td>\n",
       "      <td>https://www.workopolis.com/jobsearch/viewjob/n...</td>\n",
       "      <td>tell us story dont go unnoticed explain youre ...</td>\n",
       "      <td>0.0</td>\n",
       "      <td>0.0</td>\n",
       "      <td>0.0</td>\n",
       "      <td>...</td>\n",
       "      <td>0.0</td>\n",
       "      <td>0.0</td>\n",
       "      <td>0.0</td>\n",
       "      <td>0.0</td>\n",
       "      <td>0.0</td>\n",
       "      <td>0.0</td>\n",
       "      <td>0.0</td>\n",
       "      <td>0.0</td>\n",
       "      <td>0.0</td>\n",
       "      <td>0.0</td>\n",
       "    </tr>\n",
       "    <tr>\n",
       "      <td>1</td>\n",
       "      <td>Toronto, ON</td>\n",
       "      <td>Data Engineer</td>\n",
       "      <td>Thales Canada Inc., Transportation Solutions</td>\n",
       "      <td>— Toronto, ON</td>\n",
       "      <td>Estimated: $91,000 - $120,000 a year</td>\n",
       "      <td>https://www.workopolis.com/jobsearch/viewjob/0...</td>\n",
       "      <td>location toronto canada l activité mondiale sy...</td>\n",
       "      <td>0.0</td>\n",
       "      <td>0.0</td>\n",
       "      <td>0.0</td>\n",
       "      <td>...</td>\n",
       "      <td>0.0</td>\n",
       "      <td>0.0</td>\n",
       "      <td>0.0</td>\n",
       "      <td>0.0</td>\n",
       "      <td>0.0</td>\n",
       "      <td>0.0</td>\n",
       "      <td>0.0</td>\n",
       "      <td>0.0</td>\n",
       "      <td>0.0</td>\n",
       "      <td>0.0</td>\n",
       "    </tr>\n",
       "    <tr>\n",
       "      <td>2</td>\n",
       "      <td>Toronto, ON</td>\n",
       "      <td>ZEB Simulation Team Lead</td>\n",
       "      <td>Canadian Urban Transit Research and Innovation...</td>\n",
       "      <td>— Toronto, ON</td>\n",
       "      <td>$72,000 - $80,000 a year</td>\n",
       "      <td>https://www.workopolis.com/jobsearch/viewjob/M...</td>\n",
       "      <td>job posting deadline april toronto ontariohour...</td>\n",
       "      <td>1.0</td>\n",
       "      <td>0.0</td>\n",
       "      <td>0.0</td>\n",
       "      <td>...</td>\n",
       "      <td>0.0</td>\n",
       "      <td>0.0</td>\n",
       "      <td>0.0</td>\n",
       "      <td>0.0</td>\n",
       "      <td>0.0</td>\n",
       "      <td>0.0</td>\n",
       "      <td>0.0</td>\n",
       "      <td>0.0</td>\n",
       "      <td>0.0</td>\n",
       "      <td>0.0</td>\n",
       "    </tr>\n",
       "    <tr>\n",
       "      <td>3</td>\n",
       "      <td>Ottawa, ON</td>\n",
       "      <td>Data Scientist</td>\n",
       "      <td>Interset</td>\n",
       "      <td>— Ottawa, ON</td>\n",
       "      <td>Estimated: $74,000 - $100,000 a year</td>\n",
       "      <td>https://www.workopolis.com/jobsearch/viewjob/K...</td>\n",
       "      <td>help us catch bad guys math team growing looki...</td>\n",
       "      <td>1.0</td>\n",
       "      <td>1.0</td>\n",
       "      <td>0.0</td>\n",
       "      <td>...</td>\n",
       "      <td>0.0</td>\n",
       "      <td>0.0</td>\n",
       "      <td>0.0</td>\n",
       "      <td>0.0</td>\n",
       "      <td>0.0</td>\n",
       "      <td>0.0</td>\n",
       "      <td>0.0</td>\n",
       "      <td>0.0</td>\n",
       "      <td>0.0</td>\n",
       "      <td>0.0</td>\n",
       "    </tr>\n",
       "    <tr>\n",
       "      <td>4</td>\n",
       "      <td>Ottawa, ON</td>\n",
       "      <td>Junior Data Scientist</td>\n",
       "      <td>Office of the Auditor General of Canada</td>\n",
       "      <td>— Ottawa, ON</td>\n",
       "      <td>$67,000 - $78,000 a year</td>\n",
       "      <td>https://www.workopolis.com/jobsearch/viewjob/H...</td>\n",
       "      <td>process number job title junior data scientist...</td>\n",
       "      <td>1.0</td>\n",
       "      <td>0.0</td>\n",
       "      <td>0.0</td>\n",
       "      <td>...</td>\n",
       "      <td>0.0</td>\n",
       "      <td>0.0</td>\n",
       "      <td>0.0</td>\n",
       "      <td>0.0</td>\n",
       "      <td>0.0</td>\n",
       "      <td>0.0</td>\n",
       "      <td>0.0</td>\n",
       "      <td>0.0</td>\n",
       "      <td>0.0</td>\n",
       "      <td>0.0</td>\n",
       "    </tr>\n",
       "  </tbody>\n",
       "</table>\n",
       "<p>5 rows × 141 columns</p>\n",
       "</div>"
      ],
      "text/plain": [
       "          city                       job  \\\n",
       "0  Toronto, ON   Sr. Full Stack Engineer   \n",
       "1  Toronto, ON             Data Engineer   \n",
       "2  Toronto, ON  ZEB Simulation Team Lead   \n",
       "3   Ottawa, ON            Data Scientist   \n",
       "4   Ottawa, ON     Junior Data Scientist   \n",
       "\n",
       "                                             company       location  \\\n",
       "0                                            TD Bank  — Toronto, ON   \n",
       "1       Thales Canada Inc., Transportation Solutions  — Toronto, ON   \n",
       "2  Canadian Urban Transit Research and Innovation...  — Toronto, ON   \n",
       "3                                           Interset   — Ottawa, ON   \n",
       "4            Office of the Auditor General of Canada   — Ottawa, ON   \n",
       "\n",
       "                                 salary  \\\n",
       "0  Estimated: $84,000 - $120,000 a year   \n",
       "1  Estimated: $91,000 - $120,000 a year   \n",
       "2              $72,000 - $80,000 a year   \n",
       "3  Estimated: $74,000 - $100,000 a year   \n",
       "4              $67,000 - $78,000 a year   \n",
       "\n",
       "                                                link  \\\n",
       "0  https://www.workopolis.com/jobsearch/viewjob/n...   \n",
       "1  https://www.workopolis.com/jobsearch/viewjob/0...   \n",
       "2  https://www.workopolis.com/jobsearch/viewjob/M...   \n",
       "3  https://www.workopolis.com/jobsearch/viewjob/K...   \n",
       "4  https://www.workopolis.com/jobsearch/viewjob/H...   \n",
       "\n",
       "                                     Cleaned_summary  python  sql  excel  ...  \\\n",
       "0  tell us story dont go unnoticed explain youre ...     0.0  0.0    0.0  ...   \n",
       "1  location toronto canada l activité mondiale sy...     0.0  0.0    0.0  ...   \n",
       "2  job posting deadline april toronto ontariohour...     1.0  0.0    0.0  ...   \n",
       "3  help us catch bad guys math team growing looki...     1.0  1.0    0.0  ...   \n",
       "4  process number job title junior data scientist...     1.0  0.0    0.0  ...   \n",
       "\n",
       "   tensors  kafka  pivot tables  conditional formating  \\\n",
       "0      0.0    0.0           0.0                    0.0   \n",
       "1      0.0    0.0           0.0                    0.0   \n",
       "2      0.0    0.0           0.0                    0.0   \n",
       "3      0.0    0.0           0.0                    0.0   \n",
       "4      0.0    0.0           0.0                    0.0   \n",
       "\n",
       "   multivariable calculus  nosql  scikit  scipy  xgboost  validating analytics  \n",
       "0                     0.0    0.0     0.0    0.0      0.0                   0.0  \n",
       "1                     0.0    0.0     0.0    0.0      0.0                   0.0  \n",
       "2                     0.0    0.0     0.0    0.0      0.0                   0.0  \n",
       "3                     0.0    0.0     0.0    0.0      0.0                   0.0  \n",
       "4                     0.0    0.0     0.0    0.0      0.0                   0.0  \n",
       "\n",
       "[5 rows x 141 columns]"
      ]
     },
     "execution_count": 30,
     "metadata": {},
     "output_type": "execute_result"
    }
   ],
   "source": [
    "#Read in Workopolis Data only\n",
    "Workopolis_Results = pd.read_csv('Workopolis_Results.csv')\n",
    "Workopolis_Results.head()\n",
    "Workopolis_Results = Workopolis_Results.iloc[:,1:]\n",
    "Workopolis_Results.head()"
   ]
  },
  {
   "cell_type": "code",
   "execution_count": 31,
   "metadata": {
    "colab": {
     "base_uri": "https://localhost:8080/",
     "height": 573
    },
    "colab_type": "code",
    "id": "6RKrXedFygfM",
    "outputId": "5d24f1a4-83cb-4170-e26b-42a1839246de"
   },
   "outputs": [
    {
     "data": {
      "image/png": "[encoded data removed]",
      "text/plain": [
       "<Figure size 1440x504 with 1 Axes>"
      ]
     },
     "metadata": {
      "needs_background": "light"
     },
     "output_type": "display_data"
    }
   ],
   "source": [
    "location = Workopolis_Results['city'].value_counts() # count the number of jobs in each location\n",
    "plt.figure(figsize=(20,7))\n",
    "\n",
    "sns.barplot(location.index, location.values, alpha=0.8)\n",
    "plt.title('Workopolis: Job Count in Each Canadian City',fontsize=18)\n",
    "plt.ylabel('Count', fontsize=16)\n",
    "plt.xlabel('location', fontsize=16)\n",
    "plt.xticks(rotation=45, ha='right')\n",
    "plt.show()"
   ]
  },
  {
   "cell_type": "markdown",
   "metadata": {
    "colab_type": "text",
    "id": "Fg6zcgue_2V8"
   },
   "source": [
    "# Combine Indeed and Workopolis Results"
   ]
  },
  {
   "cell_type": "code",
   "execution_count": 32,
   "metadata": {
    "colab": {},
    "colab_type": "code",
    "id": "GekrBSrT0X6Z"
   },
   "outputs": [],
   "source": [
    "#Final_Results = pd.concat([Indeed_Results,Workopolis_Results],ignore_index=True)"
   ]
  },
  {
   "cell_type": "code",
   "execution_count": 33,
   "metadata": {},
   "outputs": [],
   "source": [
    "#Final_Results.to_csv(\"Final_Results.csv\")"
   ]
  },
  {
   "cell_type": "markdown",
   "metadata": {},
   "source": [
    "# Read in Final Webscraped Data"
   ]
  },
  {
   "cell_type": "code",
   "execution_count": 34,
   "metadata": {},
   "outputs": [
    {
     "data": {
      "text/html": [
       "<div>\n",
       "<style scoped>\n",
       "    .dataframe tbody tr th:only-of-type {\n",
       "        vertical-align: middle;\n",
       "    }\n",
       "\n",
       "    .dataframe tbody tr th {\n",
       "        vertical-align: top;\n",
       "    }\n",
       "\n",
       "    .dataframe thead th {\n",
       "        text-align: right;\n",
       "    }\n",
       "</style>\n",
       "<table border=\"1\" class=\"dataframe\">\n",
       "  <thead>\n",
       "    <tr style=\"text-align: right;\">\n",
       "      <th></th>\n",
       "      <th>city</th>\n",
       "      <th>job</th>\n",
       "      <th>location</th>\n",
       "      <th>salary</th>\n",
       "      <th>link</th>\n",
       "      <th>Cleaned_summary</th>\n",
       "      <th>python</th>\n",
       "      <th>sql</th>\n",
       "      <th>excel</th>\n",
       "      <th>java</th>\n",
       "      <th>...</th>\n",
       "      <th>tensors</th>\n",
       "      <th>kafka</th>\n",
       "      <th>pivot tables</th>\n",
       "      <th>conditional formating</th>\n",
       "      <th>multivariable calculus</th>\n",
       "      <th>nosql</th>\n",
       "      <th>scikit</th>\n",
       "      <th>scipy</th>\n",
       "      <th>xgboost</th>\n",
       "      <th>validating analytics</th>\n",
       "    </tr>\n",
       "  </thead>\n",
       "  <tbody>\n",
       "    <tr>\n",
       "      <td>0</td>\n",
       "      <td>Los+Angeles</td>\n",
       "      <td>Machine Learning Engineer</td>\n",
       "      <td>Los Angeles, CA</td>\n",
       "      <td>$150,000 - $250,000 a year</td>\n",
       "      <td>https://www.indeed.com/pagead/clk?mo=r&amp;ad=-6NY...</td>\n",
       "      <td>triplebytetriplebyte transforming way software...</td>\n",
       "      <td>0.0</td>\n",
       "      <td>0.0</td>\n",
       "      <td>0.0</td>\n",
       "      <td>0.0</td>\n",
       "      <td>...</td>\n",
       "      <td>0.0</td>\n",
       "      <td>0.0</td>\n",
       "      <td>0.0</td>\n",
       "      <td>0.0</td>\n",
       "      <td>0.0</td>\n",
       "      <td>0.0</td>\n",
       "      <td>0.0</td>\n",
       "      <td>0.0</td>\n",
       "      <td>0.0</td>\n",
       "      <td>0.0</td>\n",
       "    </tr>\n",
       "    <tr>\n",
       "      <td>1</td>\n",
       "      <td>Los+Angeles</td>\n",
       "      <td>Data Scientist</td>\n",
       "      <td>Los Angeles, CA 90079</td>\n",
       "      <td>None</td>\n",
       "      <td>https://www.indeed.com/pagead/clk?mo=r&amp;ad=-6NY...</td>\n",
       "      <td>position advance2 fastgrowing marketing optimi...</td>\n",
       "      <td>1.0</td>\n",
       "      <td>0.0</td>\n",
       "      <td>0.0</td>\n",
       "      <td>0.0</td>\n",
       "      <td>...</td>\n",
       "      <td>0.0</td>\n",
       "      <td>0.0</td>\n",
       "      <td>0.0</td>\n",
       "      <td>0.0</td>\n",
       "      <td>0.0</td>\n",
       "      <td>0.0</td>\n",
       "      <td>0.0</td>\n",
       "      <td>1.0</td>\n",
       "      <td>0.0</td>\n",
       "      <td>0.0</td>\n",
       "    </tr>\n",
       "    <tr>\n",
       "      <td>2</td>\n",
       "      <td>Los+Angeles</td>\n",
       "      <td>Data Scientist Director (Northeast)</td>\n",
       "      <td>United States</td>\n",
       "      <td>None</td>\n",
       "      <td>https://www.indeed.com/pagead/clk?mo=r&amp;ad=-6NY...</td>\n",
       "      <td>company description  clearlink partners indust...</td>\n",
       "      <td>0.0</td>\n",
       "      <td>1.0</td>\n",
       "      <td>0.0</td>\n",
       "      <td>0.0</td>\n",
       "      <td>...</td>\n",
       "      <td>0.0</td>\n",
       "      <td>0.0</td>\n",
       "      <td>0.0</td>\n",
       "      <td>0.0</td>\n",
       "      <td>0.0</td>\n",
       "      <td>0.0</td>\n",
       "      <td>0.0</td>\n",
       "      <td>0.0</td>\n",
       "      <td>0.0</td>\n",
       "      <td>0.0</td>\n",
       "    </tr>\n",
       "    <tr>\n",
       "      <td>3</td>\n",
       "      <td>Los+Angeles</td>\n",
       "      <td>Data Scientist</td>\n",
       "      <td>Los Angeles, CA 90024</td>\n",
       "      <td>$110,000 - $150,000 a year</td>\n",
       "      <td>https://www.indeed.com/pagead/clk?mo=r&amp;ad=-6NY...</td>\n",
       "      <td>data scientist data scientistmachine learning ...</td>\n",
       "      <td>0.0</td>\n",
       "      <td>0.0</td>\n",
       "      <td>0.0</td>\n",
       "      <td>0.0</td>\n",
       "      <td>...</td>\n",
       "      <td>0.0</td>\n",
       "      <td>0.0</td>\n",
       "      <td>0.0</td>\n",
       "      <td>0.0</td>\n",
       "      <td>0.0</td>\n",
       "      <td>0.0</td>\n",
       "      <td>0.0</td>\n",
       "      <td>0.0</td>\n",
       "      <td>0.0</td>\n",
       "      <td>0.0</td>\n",
       "    </tr>\n",
       "    <tr>\n",
       "      <td>4</td>\n",
       "      <td>Los+Angeles</td>\n",
       "      <td>Data Scientist</td>\n",
       "      <td>Los Angeles, CA</td>\n",
       "      <td>None</td>\n",
       "      <td>https://www.indeed.com/rc/clk?jk=18552fae85097...</td>\n",
       "      <td>mutesix  mutesix  iprospect company  awardwinn...</td>\n",
       "      <td>1.0</td>\n",
       "      <td>1.0</td>\n",
       "      <td>0.0</td>\n",
       "      <td>0.0</td>\n",
       "      <td>...</td>\n",
       "      <td>0.0</td>\n",
       "      <td>0.0</td>\n",
       "      <td>0.0</td>\n",
       "      <td>0.0</td>\n",
       "      <td>0.0</td>\n",
       "      <td>0.0</td>\n",
       "      <td>0.0</td>\n",
       "      <td>0.0</td>\n",
       "      <td>0.0</td>\n",
       "      <td>0.0</td>\n",
       "    </tr>\n",
       "  </tbody>\n",
       "</table>\n",
       "<p>5 rows × 140 columns</p>\n",
       "</div>"
      ],
      "text/plain": [
       "          city                                  job               location  \\\n",
       "0  Los+Angeles            Machine Learning Engineer        Los Angeles, CA   \n",
       "1  Los+Angeles                       Data Scientist  Los Angeles, CA 90079   \n",
       "2  Los+Angeles  Data Scientist Director (Northeast)          United States   \n",
       "3  Los+Angeles                       Data Scientist  Los Angeles, CA 90024   \n",
       "4  Los+Angeles                       Data Scientist        Los Angeles, CA   \n",
       "\n",
       "                       salary  \\\n",
       "0  $150,000 - $250,000 a year   \n",
       "1                        None   \n",
       "2                        None   \n",
       "3  $110,000 - $150,000 a year   \n",
       "4                        None   \n",
       "\n",
       "                                                link  \\\n",
       "0  https://www.indeed.com/pagead/clk?mo=r&ad=-6NY...   \n",
       "1  https://www.indeed.com/pagead/clk?mo=r&ad=-6NY...   \n",
       "2  https://www.indeed.com/pagead/clk?mo=r&ad=-6NY...   \n",
       "3  https://www.indeed.com/pagead/clk?mo=r&ad=-6NY...   \n",
       "4  https://www.indeed.com/rc/clk?jk=18552fae85097...   \n",
       "\n",
       "                                     Cleaned_summary  python  sql  excel  \\\n",
       "0  triplebytetriplebyte transforming way software...     0.0  0.0    0.0   \n",
       "1  position advance2 fastgrowing marketing optimi...     1.0  0.0    0.0   \n",
       "2  company description  clearlink partners indust...     0.0  1.0    0.0   \n",
       "3  data scientist data scientistmachine learning ...     0.0  0.0    0.0   \n",
       "4  mutesix  mutesix  iprospect company  awardwinn...     1.0  1.0    0.0   \n",
       "\n",
       "   java  ...  tensors  kafka  pivot tables  conditional formating  \\\n",
       "0   0.0  ...      0.0    0.0           0.0                    0.0   \n",
       "1   0.0  ...      0.0    0.0           0.0                    0.0   \n",
       "2   0.0  ...      0.0    0.0           0.0                    0.0   \n",
       "3   0.0  ...      0.0    0.0           0.0                    0.0   \n",
       "4   0.0  ...      0.0    0.0           0.0                    0.0   \n",
       "\n",
       "   multivariable calculus  nosql  scikit  scipy  xgboost  validating analytics  \n",
       "0                     0.0    0.0     0.0    0.0      0.0                   0.0  \n",
       "1                     0.0    0.0     0.0    1.0      0.0                   0.0  \n",
       "2                     0.0    0.0     0.0    0.0      0.0                   0.0  \n",
       "3                     0.0    0.0     0.0    0.0      0.0                   0.0  \n",
       "4                     0.0    0.0     0.0    0.0      0.0                   0.0  \n",
       "\n",
       "[5 rows x 140 columns]"
      ]
     },
     "execution_count": 34,
     "metadata": {},
     "output_type": "execute_result"
    }
   ],
   "source": [
    "Final_Results = pd.read_csv('Final_Results.csv')\n",
    "Final_Results = Final_Results.iloc[:,1:]\n",
    "Final_Results.head()"
   ]
  },
  {
   "cell_type": "markdown",
   "metadata": {
    "colab_type": "text",
    "id": "Pe-voV-_n3te"
   },
   "source": [
    "# Job Type\n",
    "\n",
    "Determining the job type (business or engineering) the job posting is referring too. "
   ]
  },
  {
   "cell_type": "code",
   "execution_count": 35,
   "metadata": {
    "colab": {},
    "colab_type": "code",
    "id": "HdnyB1sWn71_"
   },
   "outputs": [],
   "source": [
    "Final_Results[\"job_type\"] = ''"
   ]
  },
  {
   "cell_type": "code",
   "execution_count": 36,
   "metadata": {
    "colab": {
     "base_uri": "https://localhost:8080/",
     "height": 187
    },
    "colab_type": "code",
    "id": "x6nRnEeprlNu",
    "outputId": "053cd23f-9277-487b-edda-c539de29ba51"
   },
   "outputs": [
    {
     "name": "stderr",
     "output_type": "stream",
     "text": [
      "/Users/NADA/opt/anaconda3/lib/python3.7/site-packages/ipykernel_launcher.py:8: SettingWithCopyWarning: \n",
      "A value is trying to be set on a copy of a slice from a DataFrame\n",
      "\n",
      "See the caveats in the documentation: http://pandas.pydata.org/pandas-docs/stable/user_guide/indexing.html#returning-a-view-versus-a-copy\n",
      "  \n",
      "/Users/NADA/opt/anaconda3/lib/python3.7/site-packages/ipykernel_launcher.py:6: SettingWithCopyWarning: \n",
      "A value is trying to be set on a copy of a slice from a DataFrame\n",
      "\n",
      "See the caveats in the documentation: http://pandas.pydata.org/pandas-docs/stable/user_guide/indexing.html#returning-a-view-versus-a-copy\n",
      "  \n"
     ]
    }
   ],
   "source": [
    "job_ty = 'business'\n",
    "for i in range (Final_Results.shape[0]):\n",
    "    text = Final_Results['job'].values[i].lower()\n",
    "    result = text.find(job_ty)\n",
    "    if result>-1:\n",
    "        Final_Results[\"job_type\"][i] = job_ty\n",
    "    else:\n",
    "        Final_Results[\"job_type\"][i] = 'engineering' # if skill is found place a one"
   ]
  },
  {
   "cell_type": "markdown",
   "metadata": {},
   "source": [
    "As you can see most of the job types are categorized under engineering"
   ]
  },
  {
   "cell_type": "code",
   "execution_count": 37,
   "metadata": {
    "colab": {
     "base_uri": "https://localhost:8080/",
     "height": 68
    },
    "colab_type": "code",
    "id": "TrasyfVx7y5C",
    "outputId": "5a0f4272-6aaf-4ee2-f356-d64174c233d3"
   },
   "outputs": [
    {
     "data": {
      "text/plain": [
       "engineering    22584\n",
       "business        7468\n",
       "Name: job_type, dtype: int64"
      ]
     },
     "execution_count": 37,
     "metadata": {},
     "output_type": "execute_result"
    }
   ],
   "source": [
    "Final_Results.job_type.value_counts()"
   ]
  },
  {
   "cell_type": "markdown",
   "metadata": {
    "colab_type": "text",
    "id": "pRVE9CV-5sib"
   },
   "source": [
    "# Extract Job Experience"
   ]
  },
  {
   "cell_type": "code",
   "execution_count": 38,
   "metadata": {
    "colab": {
     "base_uri": "https://localhost:8080/",
     "height": 374
    },
    "colab_type": "code",
    "id": "0oZsiThk5u3e",
    "outputId": "e1aff77c-e0c1-4463-ccbc-67fcc887aa28"
   },
   "outputs": [
    {
     "name": "stderr",
     "output_type": "stream",
     "text": [
      "/Users/NADA/opt/anaconda3/lib/python3.7/site-packages/ipykernel_launcher.py:27: SettingWithCopyWarning: \n",
      "A value is trying to be set on a copy of a slice from a DataFrame\n",
      "\n",
      "See the caveats in the documentation: http://pandas.pydata.org/pandas-docs/stable/user_guide/indexing.html#returning-a-view-versus-a-copy\n",
      "/Users/NADA/opt/anaconda3/lib/python3.7/site-packages/ipykernel_launcher.py:24: SettingWithCopyWarning: \n",
      "A value is trying to be set on a copy of a slice from a DataFrame\n",
      "\n",
      "See the caveats in the documentation: http://pandas.pydata.org/pandas-docs/stable/user_guide/indexing.html#returning-a-view-versus-a-copy\n",
      "/Users/NADA/opt/anaconda3/lib/python3.7/site-packages/ipykernel_launcher.py:15: SettingWithCopyWarning: \n",
      "A value is trying to be set on a copy of a slice from a DataFrame\n",
      "\n",
      "See the caveats in the documentation: http://pandas.pydata.org/pandas-docs/stable/user_guide/indexing.html#returning-a-view-versus-a-copy\n",
      "  from ipykernel import kernelapp as app\n",
      "/Users/NADA/opt/anaconda3/lib/python3.7/site-packages/ipykernel_launcher.py:22: SettingWithCopyWarning: \n",
      "A value is trying to be set on a copy of a slice from a DataFrame\n",
      "\n",
      "See the caveats in the documentation: http://pandas.pydata.org/pandas-docs/stable/user_guide/indexing.html#returning-a-view-versus-a-copy\n",
      "/Users/NADA/opt/anaconda3/lib/python3.7/site-packages/ipykernel_launcher.py:17: SettingWithCopyWarning: \n",
      "A value is trying to be set on a copy of a slice from a DataFrame\n",
      "\n",
      "See the caveats in the documentation: http://pandas.pydata.org/pandas-docs/stable/user_guide/indexing.html#returning-a-view-versus-a-copy\n"
     ]
    }
   ],
   "source": [
    "Final_Results['Experience'] = ''\n",
    "for i in range(Final_Results.shape[0]):\n",
    "    \n",
    "    text = Final_Results['Cleaned_summary'].values[i]\n",
    "    index = text.find('years')\n",
    "    experience_text = text[index-25:index]\n",
    "    years_ = re.findall('([0-9]+)', experience_text)\n",
    "    \n",
    "    \n",
    "    if len(years_)==2:\n",
    "        exp_year = int(years_[1]) # take max number \n",
    "        \n",
    "        #remove bad numbers\n",
    "        if exp_year>15:\n",
    "            Final_Results['Experience'][i] = 0\n",
    "        else:\n",
    "            Final_Results['Experience'][i] = exp_year\n",
    "         \n",
    "    \n",
    "    elif len(years_)==1:\n",
    "        if int(years_[0]) >15:\n",
    "            Final_Results['Experience'][i] = 0\n",
    "        else:\n",
    "            Final_Results['Experience'][i] = int(years_[0])\n",
    "            \n",
    "    else:\n",
    "            Final_Results['Experience'][i] = 'None'"
   ]
  },
  {
   "cell_type": "markdown",
   "metadata": {
    "colab_type": "text",
    "id": "FDUJ5-Rxb7ky"
   },
   "source": [
    "# Skills based on Contract Type"
   ]
  },
  {
   "cell_type": "code",
   "execution_count": 39,
   "metadata": {
    "colab": {
     "base_uri": "https://localhost:8080/",
     "height": 102
    },
    "colab_type": "code",
    "id": "FFkMxG6ahbsc",
    "outputId": "3fadfb43-df06-4fad-e2c4-fbc8c9735ac4"
   },
   "outputs": [
    {
     "name": "stderr",
     "output_type": "stream",
     "text": [
      "/Users/NADA/opt/anaconda3/lib/python3.7/site-packages/ipykernel_launcher.py:9: SettingWithCopyWarning: \n",
      "A value is trying to be set on a copy of a slice from a DataFrame\n",
      "\n",
      "See the caveats in the documentation: http://pandas.pydata.org/pandas-docs/stable/user_guide/indexing.html#returning-a-view-versus-a-copy\n",
      "  if __name__ == '__main__':\n"
     ]
    }
   ],
   "source": [
    "contract = ['fulltime', 'full time','parttime', 'part time', 'temporary', 'contract']\n",
    "Final_Results['Contract_Type'] = ''\n",
    "for i in range(Final_Results.shape[0]):\n",
    "    text = Final_Results['Cleaned_summary'].values[i]\n",
    "    if text == '' or 'None':\n",
    "        for c in contract :\n",
    "            result =  re.search(r'(?:^|(?<=\\s))' + c + r'(?=\\s|$)',text)\n",
    "            if result:\n",
    "                Final_Results['Contract_Type'][i] = c\n",
    "    else:\n",
    "        break"
   ]
  },
  {
   "cell_type": "code",
   "execution_count": 40,
   "metadata": {
    "colab": {},
    "colab_type": "code",
    "id": "P68pyaWvpMA0"
   },
   "outputs": [],
   "source": [
    "Final_Results['Contract_Type'] = Final_Results['Contract_Type'].map({'':'None', 'fulltime':'full-time', 'full time':'full-time', \n",
    "                                                                    'parttime':'part-time', 'part time': 'part-time', 'temporary':'temporary',\n",
    "                                                                    'contract':'contract'})"
   ]
  },
  {
   "cell_type": "code",
   "execution_count": 41,
   "metadata": {},
   "outputs": [
    {
     "data": {
      "text/plain": [
       "None         22540\n",
       "full-time     4397\n",
       "contract      2231\n",
       "part-time      562\n",
       "temporary      322\n",
       "Name: Contract_Type, dtype: int64"
      ]
     },
     "execution_count": 41,
     "metadata": {},
     "output_type": "execute_result"
    }
   ],
   "source": [
    "Final_Results['Contract_Type'].value_counts()"
   ]
  },
  {
   "cell_type": "code",
   "execution_count": 42,
   "metadata": {
    "colab": {},
    "colab_type": "code",
    "id": "8HPSB1EAm8kp"
   },
   "outputs": [],
   "source": [
    "#export final csv for later use\n",
    "#Final_Results.to_csv(r\"Final_ResultsF.csv\")"
   ]
  },
  {
   "cell_type": "code",
   "execution_count": 43,
   "metadata": {},
   "outputs": [
    {
     "data": {
      "text/html": [
       "<div>\n",
       "<style scoped>\n",
       "    .dataframe tbody tr th:only-of-type {\n",
       "        vertical-align: middle;\n",
       "    }\n",
       "\n",
       "    .dataframe tbody tr th {\n",
       "        vertical-align: top;\n",
       "    }\n",
       "\n",
       "    .dataframe thead th {\n",
       "        text-align: right;\n",
       "    }\n",
       "</style>\n",
       "<table border=\"1\" class=\"dataframe\">\n",
       "  <thead>\n",
       "    <tr style=\"text-align: right;\">\n",
       "      <th></th>\n",
       "      <th>city</th>\n",
       "      <th>job</th>\n",
       "      <th>location</th>\n",
       "      <th>salary</th>\n",
       "      <th>link</th>\n",
       "      <th>Cleaned_summary</th>\n",
       "      <th>python</th>\n",
       "      <th>sql</th>\n",
       "      <th>excel</th>\n",
       "      <th>java</th>\n",
       "      <th>...</th>\n",
       "      <th>conditional formating</th>\n",
       "      <th>multivariable calculus</th>\n",
       "      <th>nosql</th>\n",
       "      <th>scikit</th>\n",
       "      <th>scipy</th>\n",
       "      <th>xgboost</th>\n",
       "      <th>validating analytics</th>\n",
       "      <th>job_type</th>\n",
       "      <th>Experience</th>\n",
       "      <th>Contract_Type</th>\n",
       "    </tr>\n",
       "  </thead>\n",
       "  <tbody>\n",
       "    <tr>\n",
       "      <td>0</td>\n",
       "      <td>Los+Angeles</td>\n",
       "      <td>Machine Learning Engineer</td>\n",
       "      <td>Los Angeles, CA</td>\n",
       "      <td>$150,000 - $250,000 a year</td>\n",
       "      <td>https://www.indeed.com/pagead/clk?mo=r&amp;ad=-6NY...</td>\n",
       "      <td>triplebytetriplebyte transforming way software...</td>\n",
       "      <td>0.0</td>\n",
       "      <td>0.0</td>\n",
       "      <td>0.0</td>\n",
       "      <td>0.0</td>\n",
       "      <td>...</td>\n",
       "      <td>0.0</td>\n",
       "      <td>0.0</td>\n",
       "      <td>0.0</td>\n",
       "      <td>0.0</td>\n",
       "      <td>0.0</td>\n",
       "      <td>0.0</td>\n",
       "      <td>0.0</td>\n",
       "      <td>engineering</td>\n",
       "      <td>None</td>\n",
       "      <td>None</td>\n",
       "    </tr>\n",
       "    <tr>\n",
       "      <td>1</td>\n",
       "      <td>Los+Angeles</td>\n",
       "      <td>Data Scientist</td>\n",
       "      <td>Los Angeles, CA 90079</td>\n",
       "      <td>None</td>\n",
       "      <td>https://www.indeed.com/pagead/clk?mo=r&amp;ad=-6NY...</td>\n",
       "      <td>position advance2 fastgrowing marketing optimi...</td>\n",
       "      <td>1.0</td>\n",
       "      <td>0.0</td>\n",
       "      <td>0.0</td>\n",
       "      <td>0.0</td>\n",
       "      <td>...</td>\n",
       "      <td>0.0</td>\n",
       "      <td>0.0</td>\n",
       "      <td>0.0</td>\n",
       "      <td>0.0</td>\n",
       "      <td>1.0</td>\n",
       "      <td>0.0</td>\n",
       "      <td>0.0</td>\n",
       "      <td>engineering</td>\n",
       "      <td>3</td>\n",
       "      <td>None</td>\n",
       "    </tr>\n",
       "    <tr>\n",
       "      <td>2</td>\n",
       "      <td>Los+Angeles</td>\n",
       "      <td>Data Scientist Director (Northeast)</td>\n",
       "      <td>United States</td>\n",
       "      <td>None</td>\n",
       "      <td>https://www.indeed.com/pagead/clk?mo=r&amp;ad=-6NY...</td>\n",
       "      <td>company description  clearlink partners indust...</td>\n",
       "      <td>0.0</td>\n",
       "      <td>1.0</td>\n",
       "      <td>0.0</td>\n",
       "      <td>0.0</td>\n",
       "      <td>...</td>\n",
       "      <td>0.0</td>\n",
       "      <td>0.0</td>\n",
       "      <td>0.0</td>\n",
       "      <td>0.0</td>\n",
       "      <td>0.0</td>\n",
       "      <td>0.0</td>\n",
       "      <td>0.0</td>\n",
       "      <td>engineering</td>\n",
       "      <td>3</td>\n",
       "      <td>full-time</td>\n",
       "    </tr>\n",
       "    <tr>\n",
       "      <td>3</td>\n",
       "      <td>Los+Angeles</td>\n",
       "      <td>Data Scientist</td>\n",
       "      <td>Los Angeles, CA 90024</td>\n",
       "      <td>$110,000 - $150,000 a year</td>\n",
       "      <td>https://www.indeed.com/pagead/clk?mo=r&amp;ad=-6NY...</td>\n",
       "      <td>data scientist data scientistmachine learning ...</td>\n",
       "      <td>0.0</td>\n",
       "      <td>0.0</td>\n",
       "      <td>0.0</td>\n",
       "      <td>0.0</td>\n",
       "      <td>...</td>\n",
       "      <td>0.0</td>\n",
       "      <td>0.0</td>\n",
       "      <td>0.0</td>\n",
       "      <td>0.0</td>\n",
       "      <td>0.0</td>\n",
       "      <td>0.0</td>\n",
       "      <td>0.0</td>\n",
       "      <td>engineering</td>\n",
       "      <td>2</td>\n",
       "      <td>full-time</td>\n",
       "    </tr>\n",
       "    <tr>\n",
       "      <td>4</td>\n",
       "      <td>Los+Angeles</td>\n",
       "      <td>Data Scientist</td>\n",
       "      <td>Los Angeles, CA</td>\n",
       "      <td>None</td>\n",
       "      <td>https://www.indeed.com/rc/clk?jk=18552fae85097...</td>\n",
       "      <td>mutesix  mutesix  iprospect company  awardwinn...</td>\n",
       "      <td>1.0</td>\n",
       "      <td>1.0</td>\n",
       "      <td>0.0</td>\n",
       "      <td>0.0</td>\n",
       "      <td>...</td>\n",
       "      <td>0.0</td>\n",
       "      <td>0.0</td>\n",
       "      <td>0.0</td>\n",
       "      <td>0.0</td>\n",
       "      <td>0.0</td>\n",
       "      <td>0.0</td>\n",
       "      <td>0.0</td>\n",
       "      <td>engineering</td>\n",
       "      <td>2</td>\n",
       "      <td>None</td>\n",
       "    </tr>\n",
       "  </tbody>\n",
       "</table>\n",
       "<p>5 rows × 143 columns</p>\n",
       "</div>"
      ],
      "text/plain": [
       "          city                                  job               location  \\\n",
       "0  Los+Angeles            Machine Learning Engineer        Los Angeles, CA   \n",
       "1  Los+Angeles                       Data Scientist  Los Angeles, CA 90079   \n",
       "2  Los+Angeles  Data Scientist Director (Northeast)          United States   \n",
       "3  Los+Angeles                       Data Scientist  Los Angeles, CA 90024   \n",
       "4  Los+Angeles                       Data Scientist        Los Angeles, CA   \n",
       "\n",
       "                       salary  \\\n",
       "0  $150,000 - $250,000 a year   \n",
       "1                        None   \n",
       "2                        None   \n",
       "3  $110,000 - $150,000 a year   \n",
       "4                        None   \n",
       "\n",
       "                                                link  \\\n",
       "0  https://www.indeed.com/pagead/clk?mo=r&ad=-6NY...   \n",
       "1  https://www.indeed.com/pagead/clk?mo=r&ad=-6NY...   \n",
       "2  https://www.indeed.com/pagead/clk?mo=r&ad=-6NY...   \n",
       "3  https://www.indeed.com/pagead/clk?mo=r&ad=-6NY...   \n",
       "4  https://www.indeed.com/rc/clk?jk=18552fae85097...   \n",
       "\n",
       "                                     Cleaned_summary  python  sql  excel  \\\n",
       "0  triplebytetriplebyte transforming way software...     0.0  0.0    0.0   \n",
       "1  position advance2 fastgrowing marketing optimi...     1.0  0.0    0.0   \n",
       "2  company description  clearlink partners indust...     0.0  1.0    0.0   \n",
       "3  data scientist data scientistmachine learning ...     0.0  0.0    0.0   \n",
       "4  mutesix  mutesix  iprospect company  awardwinn...     1.0  1.0    0.0   \n",
       "\n",
       "   java  ...  conditional formating  multivariable calculus  nosql  scikit  \\\n",
       "0   0.0  ...                    0.0                     0.0    0.0     0.0   \n",
       "1   0.0  ...                    0.0                     0.0    0.0     0.0   \n",
       "2   0.0  ...                    0.0                     0.0    0.0     0.0   \n",
       "3   0.0  ...                    0.0                     0.0    0.0     0.0   \n",
       "4   0.0  ...                    0.0                     0.0    0.0     0.0   \n",
       "\n",
       "   scipy  xgboost  validating analytics     job_type  Experience  \\\n",
       "0    0.0      0.0                   0.0  engineering        None   \n",
       "1    1.0      0.0                   0.0  engineering           3   \n",
       "2    0.0      0.0                   0.0  engineering           3   \n",
       "3    0.0      0.0                   0.0  engineering           2   \n",
       "4    0.0      0.0                   0.0  engineering           2   \n",
       "\n",
       "   Contract_Type  \n",
       "0           None  \n",
       "1           None  \n",
       "2      full-time  \n",
       "3      full-time  \n",
       "4           None  \n",
       "\n",
       "[5 rows x 143 columns]"
      ]
     },
     "execution_count": 43,
     "metadata": {},
     "output_type": "execute_result"
    }
   ],
   "source": [
    "Final_Results.head()"
   ]
  },
  {
   "cell_type": "markdown",
   "metadata": {
    "colab_type": "text",
    "id": "6y05LN1TmTjX"
   },
   "source": [
    "# Visualize Trends from data"
   ]
  },
  {
   "cell_type": "markdown",
   "metadata": {},
   "source": [
    "## Experience Level for engineering and business"
   ]
  },
  {
   "cell_type": "code",
   "execution_count": 44,
   "metadata": {
    "colab": {},
    "colab_type": "code",
    "id": "wRioMRZwmWeb"
   },
   "outputs": [],
   "source": [
    "# extract work experience for engineering and business\n",
    "Final = Final_Results\n",
    "Exper_type=Final.groupby(['Experience', 'job_type']).Experience.agg('count').to_frame('count').reset_index()\n",
    "Exper_Type1 = Exper_type[~Exper_type['Experience'].isin(['None', 0])] # drop experience years labelled as None or 0 as they are uninformative"
   ]
  },
  {
   "cell_type": "code",
   "execution_count": 45,
   "metadata": {},
   "outputs": [
    {
     "name": "stderr",
     "output_type": "stream",
     "text": [
      "/Users/NADA/opt/anaconda3/lib/python3.7/site-packages/ipykernel_launcher.py:1: SettingWithCopyWarning: \n",
      "A value is trying to be set on a copy of a slice from a DataFrame.\n",
      "Try using .loc[row_indexer,col_indexer] = value instead\n",
      "\n",
      "See the caveats in the documentation: http://pandas.pydata.org/pandas-docs/stable/user_guide/indexing.html#returning-a-view-versus-a-copy\n",
      "  \"\"\"Entry point for launching an IPython kernel.\n"
     ]
    }
   ],
   "source": [
    "Exper_Type1['Experience'] = Exper_Type1['Experience'].astype(int) # convert experience years to integers\n",
    "Exper_Type1 = Exper_Type1.sort_values(by=['Experience'])  # sort experience years as ascending"
   ]
  },
  {
   "cell_type": "code",
   "execution_count": 46,
   "metadata": {},
   "outputs": [
    {
     "data": {
      "text/plain": [
       "Text(0.5, 1.0, 'Years of Experience for Business and Experience')"
      ]
     },
     "execution_count": 46,
     "metadata": {},
     "output_type": "execute_result"
    },
    {
     "data": {
      "image/png": "[encoded data removed]",
      "text/plain": [
       "<Figure size 1440x576 with 1 Axes>"
      ]
     },
     "metadata": {
      "needs_background": "light"
     },
     "output_type": "display_data"
    }
   ],
   "source": [
    "plt.figure(figsize=(20,8))\n",
    "sns.barplot(x=\"Experience\", y='count', hue=\"job_type\", color = \"salmon\", data=Exper_Type1)\n",
    "plt.xlabel(\"Years of Experience\", size=15)\n",
    "plt.ylabel(\"Count\", size=15)\n",
    "plt.title(\"Years of Experience for Business and Experience\", size=20)"
   ]
  },
  {
   "cell_type": "markdown",
   "metadata": {},
   "source": [
    "# Most Common skills based on contract type"
   ]
  },
  {
   "cell_type": "code",
   "execution_count": 47,
   "metadata": {},
   "outputs": [
    {
     "data": {
      "text/plain": [
       "Text(0.5, 1.0, 'Most Common Skills based on Contract Type')"
      ]
     },
     "execution_count": 47,
     "metadata": {},
     "output_type": "execute_result"
    },
    {
     "data": {
      "image/png": "[encoded data removed]",
      "text/plain": [
       "<Figure size 1440x720 with 1 Axes>"
      ]
     },
     "metadata": {
      "needs_background": "light"
     },
     "output_type": "display_data"
    }
   ],
   "source": [
    "skill_contract = Final.groupby('Contract_Type').agg('mean')\n",
    "# drop degree columns as they are not skills\n",
    "skill_contract1 = skill_contract.drop(['masters', 'bachelor', 'phd'], axis=1)\n",
    "skill_contract2 = skill_contract1.drop(['None'], axis=0) # drop none as that is not informative \n",
    "\n",
    "thres = skill_contract2[skill_contract2.columns[skill_contract2.mean() >0.27 ]].reset_index()\n",
    "melt_thres = thres.melt(id_vars=['Contract_Type'])\n",
    "\n",
    "plt.figure(figsize=(20,10))\n",
    "sns.barplot(data=melt_thres, hue='Contract_Type', x='variable',y='value')\n",
    "plt.xlabel(\"Skill\", size=15)\n",
    "plt.xticks(rotation=45, ha='right')\n",
    "plt.ylabel(\"Average # of Skills\", size=15)\n",
    "plt.title(\"Most Common Skills based on Contract Type\", size=20)"
   ]
  },
  {
   "cell_type": "markdown",
   "metadata": {},
   "source": [
    "## Most common skills for business and engineering"
   ]
  },
  {
   "cell_type": "code",
   "execution_count": 48,
   "metadata": {},
   "outputs": [],
   "source": [
    "# find the count for each skill for business and engineering\n",
    "skill_count = Final.groupby('job_type').agg('mean')\n",
    "# drop degree columns as they are not skills\n",
    "skill_type = skill_count.drop(['masters', 'bachelor', 'phd'], axis=1)\n",
    "\n",
    "a = skill_type[skill_type.columns[skill_type.mean() >0.2 ]].reset_index()\n",
    "melt = a.melt(id_vars=['job_type'])\n",
    "\n",
    "melt = melt.sort_values(by = ['value'], ascending=False)"
   ]
  },
  {
   "cell_type": "code",
   "execution_count": 49,
   "metadata": {},
   "outputs": [
    {
     "data": {
      "text/plain": [
       "Text(0.5, 1.0, 'Most Commons Skills for Business and Experience')"
      ]
     },
     "execution_count": 49,
     "metadata": {},
     "output_type": "execute_result"
    },
    {
     "data": {
      "image/png": "[encoded data removed]",
      "text/plain": [
       "<Figure size 1440x576 with 1 Axes>"
      ]
     },
     "metadata": {
      "needs_background": "light"
     },
     "output_type": "display_data"
    }
   ],
   "source": [
    "plt.figure(figsize=(20,8))\n",
    "sns.barplot(data=melt, hue='job_type', x='variable',y='value', color='salmon')\n",
    "plt.xlabel(\"Skill\", size=20)\n",
    "plt.xticks(rotation=45, ha='right', size = 15)\n",
    "plt.ylabel(\"Average for each skill\", size=20)\n",
    "plt.title(\"Most Commons Skills for Business and Experience\", size=25)"
   ]
  },
  {
   "cell_type": "markdown",
   "metadata": {},
   "source": [
    "As you can see from above soft skills, excel, and sql are the most common skills for engineering and business. This emphasizes that aspiring data scientists should look to improve their communication skills just as much as their techincal skills. "
   ]
  },
  {
   "cell_type": "markdown",
   "metadata": {},
   "source": [
    "## General: Hard and Soft skills"
   ]
  },
  {
   "cell_type": "code",
   "execution_count": 50,
   "metadata": {},
   "outputs": [],
   "source": [
    "#map webscraped skills to hard or soft categories\n",
    "skills_type = {'python':'Hard', 'sql':'Hard', 'excel':'Hard', 'java':'Hard', 'c':'Hard', 'c+': 'Hard', 'c++': 'Hard', 'r': 'Hard', 'tableau': 'Hard', 'spark':'Hard', 'hadoop':'Hard', 'm': 'Hard', 'azure': 'Hard', 'tensorflow': 'Hard', 'acumen': 'Hard',\n",
    "                'design': 'Soft', 'sap': 'Hard', 'd3': 'Hard','cloud': 'Hard', 'project management':'Soft', 'audit': 'Soft', 'data mining': 'Hard', 'creating algorithms': 'Hard','computer skills': 'Hard', 'data manipulation': 'Hard', 'data wrangling': 'Hard', \n",
    "                'big data':'Hard','api': 'Hard', 'apiengine':'Hard', 'aws': 'Hard', 'dplyr': 'Hard', 'information retrieval':'Hard', 'interpreting data':'Hard', 'keras':'Hard', 'mathematics': 'Hard', 'statistics':'Hard', 'matlab':'Hard',\n",
    "                'microsoft excel':'Soft', 'powerpoint':'Soft', 'predictive models':'Hard', 'machine learning':'Hard', 'recommendation engines':'Hard', 'reinforcement learning':'Hard', 'risk modeling':'Hard',\n",
    "               'scripting languages':'Hard', 'speech recognition':'Hard', 'statistical learning models':'Hard', 'statistical modeling':'Hard', 'supervised':'Hard', 'unsupervised':'Hard', \n",
    "               'simulation':'Hard', 'tensorflow':'Hard', 'time series':'Hard', 'verbal':'Soft', 'assertiveness':'Soft', 'communication':'Soft', 'collaboration':'Soft', 'leadership':'Soft', 'innovative':'Soft', 'interpersonal':'Soft', 'consulting':'Soft', \n",
    "               'creativity':'Soft', 'critical thinking':'Soft', 'customer service':'Soft', 'decision making':'Soft', 'documenting':'Soft', 'facilitating meetings':'Soft', 'guidance':'Soft', 'logical thinking':'Soft','mentoring':'Soft', 'presentation':'Soft', 'problem saving':'Soft',\n",
    "               'project timelines':'Soft', 'report':'Soft', 'research':'Soft', 'writing':'Soft', 'working independently':'Soft', 'supervisory':'Soft','nlp':'Hard', 'logistic':'Hard', 'linear':'Hard', 'optimization':'Hard', \n",
    "               'mathematical modelling':'Hard', 'matplotlib':'Hard', 'neural networks':'Hard', 'nltk':'Hard', 'numpy':'Hard', 'pandas':'Hard', 'random forests':'Hard',\n",
    "                'deep learning':'Hard', 'seaborn':'Hard', 'sklearn':'Hard', 'ensemble methods':'Hard', 'knn':'Hard', 'naives bayes':'Hard', 'svm':'Hard',\n",
    "                'hypothesis testing':'Hard', 'decision trees':'Hard', 'web scraping':'Hard', 'chatbots':'Hard',\n",
    "                'network analysis':'Hard', 'bokeh':'Hard', 'cluster analysis':'Hard', 'gradient boosting':'Hard', 'principle component analysis':'Hard', 'build pipeline':'Hard',\n",
    "                'feature engineering':'Hard', 'monte carlo':'Hard', 'hyperparameter tuning':'Hard', 'model validation':'Hard', 'ggplot':'Hard', 'plotly':'Hard',\n",
    "                'geoplotlib':'Hard', 'tableau':'Hard', 'model training':'Hard', 'model testing':'Hard', 'relational Database':'Hard', 'pyspark':'Hard', 'query tuning':'Hard', 'error handling':'Hard',\n",
    "                'recursive queries':'Hard', 'postgresql':'Hard', 'triggers':'Hard', 'neural nets':'Hard', 'tensors':'Hard', 'kafka':'Hard', 'pivot tables':'Soft', 'conditional formating':'Soft', 'multivariable calculus':'Hard', \n",
    "                'nosql':'Hard', 'scikit':'Hard', 'scipy':'Hard', 'xgboost':'Hard', 'validating analytics':'Hard', 'acumendesign':'Hard'}"
   ]
  },
  {
   "cell_type": "code",
   "execution_count": 51,
   "metadata": {},
   "outputs": [],
   "source": [
    "Final.rename(columns=skills_type, inplace=True) # map hard or soft categories to skills\n",
    "Final = Final.drop(['masters', 'bachelor', 'phd'], axis=1) # drop degrees again"
   ]
  },
  {
   "cell_type": "code",
   "execution_count": 52,
   "metadata": {},
   "outputs": [],
   "source": [
    "H_S = Final.iloc[:,7:-3] #extract skills only\n",
    "v = H_S.sum().values # count for each skill\n",
    "H_S.loc[len(H_S)] = v/30052 # total number of job postings\n",
    "avgHS = H_S.iloc[[-1]]\n",
    "A = pd.melt(avgHS)\n",
    "A  = A.groupby('variable').sum().reset_index()"
   ]
  },
  {
   "cell_type": "code",
   "execution_count": 53,
   "metadata": {},
   "outputs": [
    {
     "data": {
      "image/png": "[encoded data removed]",
      "text/plain": [
       "<Figure size 864x576 with 1 Axes>"
      ]
     },
     "metadata": {
      "needs_background": "light"
     },
     "output_type": "display_data"
    }
   ],
   "source": [
    "plt.figure(figsize=(12,8))\n",
    "ax = sns.barplot(data=A, x='variable' ,y='value', color='salmon')\n",
    "plt.xlabel(\"Skill Type\", size=20)\n",
    "plt.xticks(rotation=45, ha='right', fontsize=20)\n",
    "plt.ylabel(\"Average # of jobs that require skill\", size=15)\n",
    "plt.title(\"Hard and Soft Skills\", size=20)\n",
    "for p in ax.patches:\n",
    "    height = p.get_height()\n",
    "    ax.text(p.get_x()+p.get_width()/2.,\n",
    "            height +0.05,\n",
    "            '{:.0f}'.format(height),\n",
    "            ha=\"center\", fontsize=15, weight='bold')"
   ]
  },
  {
   "cell_type": "code",
   "execution_count": 54,
   "metadata": {},
   "outputs": [],
   "source": [
    "#reset dataframe to back to original skill labels \n",
    "Final = pd.read_csv(r'Final_ResultsF.csv')\n",
    "Final = Final.iloc[:, 2:]\n",
    "Final = Final.drop(['masters', 'bachelor', 'phd'], axis=1) # drop degrees again\n",
    "hard_soft = Final.groupby('job_type').agg('mean').reset_index()\n",
    "melt_hs = hard_soft.melt(id_vars=['job_type'])\n",
    "melt_hs['variable']= melt_hs['variable'].map(skills_type)\n",
    "k = melt_hs.groupby(['job_type','variable']).agg('sum').reset_index()"
   ]
  },
  {
   "cell_type": "code",
   "execution_count": 55,
   "metadata": {},
   "outputs": [],
   "source": [
    "hard_soft = Final.groupby('job_type').agg('mean').reset_index()\n",
    "melt_hs = hard_soft.melt(id_vars=['job_type'])\n",
    "melt_hs['variable']= melt_hs['variable'].map(skills_type)\n",
    "k = melt_hs.groupby(['job_type','variable']).agg('sum').reset_index()"
   ]
  },
  {
   "cell_type": "code",
   "execution_count": 56,
   "metadata": {},
   "outputs": [
    {
     "data": {
      "text/plain": [
       "[None, None]"
      ]
     },
     "execution_count": 56,
     "metadata": {},
     "output_type": "execute_result"
    },
    {
     "data": {
      "image/png": "[encoded data removed]",
      "text/plain": [
       "<Figure size 1440x576 with 1 Axes>"
      ]
     },
     "metadata": {
      "needs_background": "light"
     },
     "output_type": "display_data"
    }
   ],
   "source": [
    "plt.figure(figsize=(20,8))\n",
    "ax = sns.barplot(data=k, hue='job_type', x='variable',y='value', color='salmon')\n",
    "plt.xlabel(\"Skill Type\", size=25)\n",
    "plt.xticks(rotation=45, ha='right', fontsize=25)\n",
    "plt.ylabel(\"Average # of jobs that require skill\", size=20)\n",
    "plt.title(\"Hard and Soft Skills for Business and Engineering\", size=20)\n",
    "for p in ax.patches:\n",
    "    height = p.get_height()\n",
    "    ax.text(p.get_x()+p.get_width()/2.,\n",
    "            height +0.05,\n",
    "            '{:.1f}'.format(height),\n",
    "            ha=\"center\", fontsize=15, weight='bold')\n",
    "\n",
    "plt.setp(ax.get_legend().get_texts(), fontsize='22') # for legend text\n",
    "plt.setp(ax.get_legend().get_title(), fontsize='22') # for legend title/\n"
   ]
  },
  {
   "cell_type": "markdown",
   "metadata": {},
   "source": [
    "## Most sought after programming languages"
   ]
  },
  {
   "cell_type": "code",
   "execution_count": 57,
   "metadata": {},
   "outputs": [
    {
     "name": "stderr",
     "output_type": "stream",
     "text": [
      "/Users/NADA/opt/anaconda3/lib/python3.7/site-packages/pandas/core/indexing.py:205: SettingWithCopyWarning: \n",
      "A value is trying to be set on a copy of a slice from a DataFrame\n",
      "\n",
      "See the caveats in the documentation: http://pandas.pydata.org/pandas-docs/stable/user_guide/indexing.html#returning-a-view-versus-a-copy\n",
      "  self._setitem_with_indexer(indexer, value)\n"
     ]
    },
    {
     "data": {
      "image/png": "[encoded data removed]",
      "text/plain": [
       "<Figure size 1080x540 with 1 Axes>"
      ]
     },
     "metadata": {
      "needs_background": "light"
     },
     "output_type": "display_data"
    }
   ],
   "source": [
    "skills = ['python', 'sql', 'excel', 'java', 'c', 'r', 'matlab'] # these were the languages that we webscraped for, c+ and c++ were excluded as they didn't product any results\n",
    "\n",
    "program = Final[skills]\n",
    "\n",
    "#count the number of jobs that require each program and append to dataframe\n",
    "pg = program.sum().values\n",
    "program.loc[len(program)] = pg/30052 *100  # 30052 is the total amount of job postings that were webscraped\n",
    "\n",
    "plt.figure(figsize=(15,7.5))\n",
    "ax = program.iloc[-1,:].sort_values(ascending=False).plot.bar(color='salmon')\n",
    "plt.xticks(rotation=90, ha='center', fontsize=15)\n",
    "ax.set_xlabel('Skills', size=20)\n",
    "ax.set_ylabel('% of jobs that require skill', size=20)\n",
    "ax.set_title('Type of Programs', size=25)\n",
    "#ax.figure.savefig('myimage.tiff', format='tiff', dpi=1200)\n",
    "for p in ax.patches:\n",
    "    height = p.get_height()\n",
    "    ax.text(p.get_x()+p.get_width()/2.,\n",
    "             height +0.1,\n",
    "            '{:.0f}'.format(height)+'%',\n",
    "            ha=\"center\", fontsize=15, weight='bold')"
   ]
  },
  {
   "cell_type": "markdown",
   "metadata": {},
   "source": [
    "So it seems that most jobs value excel more than SQL and python. This is not suprising as some companies are resistant to investing in data science and would rather stick to a simple, but very versatile, program such as excel. "
   ]
  },
  {
   "cell_type": "markdown",
   "metadata": {},
   "source": [
    "# The type of degrees jobs are looking for "
   ]
  },
  {
   "cell_type": "code",
   "execution_count": 58,
   "metadata": {},
   "outputs": [
    {
     "name": "stderr",
     "output_type": "stream",
     "text": [
      "/Users/NADA/opt/anaconda3/lib/python3.7/site-packages/pandas/core/indexing.py:205: SettingWithCopyWarning: \n",
      "A value is trying to be set on a copy of a slice from a DataFrame\n",
      "\n",
      "See the caveats in the documentation: http://pandas.pydata.org/pandas-docs/stable/user_guide/indexing.html#returning-a-view-versus-a-copy\n",
      "  self._setitem_with_indexer(indexer, value)\n"
     ]
    }
   ],
   "source": [
    "#reset dataframe back to orginal\n",
    "Final = pd.read_csv(r'Final_ResultsF.csv')\n",
    "Final = Final.iloc[:, 1:]\n",
    "Final_dg = Final[['masters', 'bachelor', 'phd']]\n",
    "v = Final_dg.sum().values\n",
    "\n",
    "Final_dg.loc[len(Final_dg)] = v/30052 *100 # total number of job postings\n",
    "avgdg = Final_dg.iloc[[-1]]\n",
    "A = pd.melt(avgdg).sort_values(by='value', ascending=False)"
   ]
  },
  {
   "cell_type": "code",
   "execution_count": 59,
   "metadata": {},
   "outputs": [
    {
     "data": {
      "image/png": "[encoded data removed]",
      "text/plain": [
       "<Figure size 1440x576 with 1 Axes>"
      ]
     },
     "metadata": {
      "needs_background": "light"
     },
     "output_type": "display_data"
    }
   ],
   "source": [
    "plt.figure(figsize=(20,8))\n",
    "ax = sns.barplot(data=A, x='variable' ,y='value', color='salmon')\n",
    "plt.xlabel(\"Degree\", size=25)\n",
    "plt.xticks(rotation=45, ha='right', fontsize=18)\n",
    "plt.ylabel(\"% of jobs that require degree\", size=25)\n",
    "plt.title(\"Educational Degrees\", size=25)\n",
    "for p in ax.patches:\n",
    "    height = p.get_height()\n",
    "    ax.text(p.get_x()+p.get_width()/2.,\n",
    "            height +0.05,\n",
    "            '{:.0f}'.format(height)+'%',\n",
    "            ha=\"center\", fontsize=20, weight='bold')"
   ]
  },
  {
   "cell_type": "markdown",
   "metadata": {},
   "source": [
    "A great deal for jobs are looking for individuals with a bachelors. Which is interesting because most students who can't find jobs tend to go the masters route."
   ]
  },
  {
   "cell_type": "markdown",
   "metadata": {},
   "source": [
    "### Determine the weight of each skills by dividing by maximum count \n",
    "\n",
    "This will be used in the Course Cirriculum notebook"
   ]
  },
  {
   "cell_type": "code",
   "execution_count": 60,
   "metadata": {},
   "outputs": [],
   "source": [
    "#reset dataframe back to orginal\n",
    "Final = pd.read_csv(r'Final_ResultsF.csv')\n",
    "skill_df = Final.iloc[:,7:-3]# extract skills only\n",
    "v= skill_df.sum().values\n",
    "A = np.array(v/max(v)) # standardize by dividing maximum count\n",
    "df = pd.DataFrame()\n",
    "df['skills'] = skill_df.columns\n",
    "df['weights'] = np.array(A)"
   ]
  },
  {
   "cell_type": "code",
   "execution_count": 61,
   "metadata": {},
   "outputs": [],
   "source": [
    "df.to_csv('skillsWebF.csv', index=False)"
   ]
  },
  {
   "cell_type": "markdown",
   "metadata": {},
   "source": [
    "# Dicussion"
   ]
  },
  {
   "cell_type": "markdown",
   "metadata": {},
   "source": [
    "Some of the trends we noticed from this notebook are as follows:\n",
    "- Most of the data science related jobs are in the United States, a large amount are in Philidelphia and San Franciso. \n",
    "- Most of the data science related jobs in Canada are in Toronto and Montreal\n",
    "- Employers are mainly looking for individuals with on average 5 years of experience\n",
    "- Communication and excel are the most popular skills regardless of contract type and job type (business or engineering)\n",
    "- Soft skills are equal as important in engineering as they are in business\n",
    "- Hards skills are much more important for engineering than business\n",
    "- The most important programs to have knowledge of is excel, sql, python. \n",
    "- Most jobs are looking for potential employees with a bachelors degree\n",
    "\n",
    "In the Course Cirriculum Notebook we take a deeper looking into skills and which ones are the most important, by examining both the indeed/workopolis dataset and the kaggle dataset. The results from that notebook were then applied to the redesign of the course. "
   ]
  },
  {
   "cell_type": "code",
   "execution_count": null,
   "metadata": {},
   "outputs": [],
   "source": []
  }
 ],
 "metadata": {
  "colab": {
   "collapsed_sections": [],
   "name": "Webscrapping.ipynb",
   "provenance": []
  },
  "kernelspec": {
   "display_name": "Python 3",
   "language": "python",
   "name": "python3"
  },
  "language_info": {
   "codemirror_mode": {
    "name": "ipython",
    "version": 3
   },
   "file_extension": ".py",
   "mimetype": "text/x-python",
   "name": "python",
   "nbconvert_exporter": "python",
   "pygments_lexer": "ipython3",
   "version": "3.7.4"
  }
 },
 "nbformat": 4,
 "nbformat_minor": 1
}
